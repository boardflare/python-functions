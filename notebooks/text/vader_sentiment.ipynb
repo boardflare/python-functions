{
 "cells": [
  {
   "cell_type": "markdown",
   "id": "51aa19c6",
   "metadata": {},
   "source": [
    "# VADER_SENTIMENT\n",
    "\n",
    "## Overview\n",
    "This function performs sentiment analysis on text using the VADER (Valence Aware Dictionary and sEntiment Reasoner) lexicon, which is specifically attuned to sentiments expressed in social media.\n",
    "\n",
    "## Usage\n",
    "To use the `VADER_SENTIMENT` function in Excel, enter it as a formula in a cell, specifying your text:\n",
    "\n",
    "```excel\n",
    "=VADER_SENTIMENT(text)\n",
    "```\n",
    "\n",
    "## Arguments\n",
    "| Argument | Type   | Required | Description                   |\n",
    "|----------|--------|----------|-------------------------------|\n",
    "| text     | string | Yes      | The text to analyze.          |\n",
    "\n",
    "## Returns\n",
    "| Return Value   | Type  | Description                                                        |\n",
    "|----------------|-------|--------------------------------------------------------------------|\n",
    "| Compound Score | float | A normalized score between -1 (most negative) and +1 (most positive). |\n",
    "\n",
    "## Limitations\n",
    "- Designed for English-language, social-media-style text.\n",
    "- May not accurately capture sarcasm, irony, or domain-specific sentiment.\n",
    "- Not suitable for financial or legal sentiment analysis.\n",
    "\n",
    "## Benefits\n",
    "- Fast, rule-based sentiment analysis for short texts.\n",
    "- No training required; works out-of-the-box.\n",
    "- Useful for social media, reviews, and general sentiment tasks.\n",
    "\n",
    "## Examples\n",
    "\n",
    "### Positive Product Review Analysis\n",
    "**Sample Input:**\n",
    "> I absolutely love this product! It exceeded all my expectations and I would highly recommend it to anyone.\n",
    "\n",
    "**Sample Call:**\n",
    "```excel\n",
    "=VADER_SENTIMENT(\"I absolutely love this product! It exceeded all my expectations and I would highly recommend it to anyone.\")\n",
    "```\n",
    "**Sample Output:** `0.9042`\n",
    "\n",
    "### Negative Customer Feedback Analysis\n",
    "**Sample Input:**\n",
    "> The customer service was terrible. I waited for hours and my issue was never resolved properly.\n",
    "\n",
    "**Sample Call:**\n",
    "```excel\n",
    "=VADER_SENTIMENT(\"The customer service was terrible. I waited for hours and my issue was never resolved properly.\")\n",
    "```\n",
    "**Sample Output:** `-0.8481`\n",
    "\n",
    "### Neutral Business Statement Analysis\n",
    "**Sample Input:**\n",
    "> Our company will be conducting the annual inventory count on June 15th. All departments will participate as scheduled.\n",
    "\n",
    "**Sample Call:**\n",
    "```excel\n",
    "=VADER_SENTIMENT(\"Our company will be conducting the annual inventory count on June 15th. All departments will participate as scheduled.\")\n",
    "```\n",
    "**Sample Output:** `0.0`\n",
    "\n",
    "### Mixed Sentiment Analysis\n",
    "**Sample Input:**\n",
    "> While the product quality is excellent, the shipping was delayed which was disappointing.\n",
    "\n",
    "**Sample Call:**\n",
    "```excel\n",
    "=VADER_SENTIMENT(\"While the product quality is excellent, the shipping was delayed which was disappointing.\")\n",
    "```\n",
    "**Sample Output:** `0.1901`"
   ]
  },
  {
   "cell_type": "code",
   "execution_count": 1,
   "id": "97c2369b",
   "metadata": {},
   "outputs": [
    {
     "name": "stderr",
     "output_type": "stream",
     "text": [
      "[nltk_data] Downloading package vader_lexicon to\n",
      "[nltk_data]     C:\\Users\\brent\\AppData\\Roaming\\nltk_data...\n",
      "[nltk_data]   Package vader_lexicon is already up-to-date!\n"
     ]
    }
   ],
   "source": [
    "import nltk\n",
    "from nltk.sentiment import SentimentIntensityAnalyzer\n",
    "nltk.download('vader_lexicon')\n",
    "\n",
    "def vader_sentiment(text):\n",
    "    \"\"\"Analyzes sentiment of text using VADER.\n",
    "    Args:\n",
    "        text (str): Text to analyze\n",
    "    Returns:\n",
    "        float: Compound sentiment score (-1 to 1)\n",
    "    \"\"\"\n",
    "    if not isinstance(text, str):\n",
    "        return 0.0 # Return neutral for non-string input\n",
    "    sia = SentimentIntensityAnalyzer()\n",
    "    sentiment = sia.polarity_scores(text)\n",
    "    return round(sentiment['compound'], 4) # Round for consistency"
   ]
  },
  {
   "cell_type": "code",
   "execution_count": 2,
   "id": "da0f48b6",
   "metadata": {},
   "outputs": [
    {
     "name": "stdout",
     "output_type": "stream",
     "text": [
      "\u001b[32m.\u001b[0m\u001b[32m.\u001b[0m\u001b[32m.\u001b[0m\u001b[32m.\u001b[0m\u001b[32m                                                                                         [100%]\u001b[0m\n",
      "\u001b[32m\u001b[32m\u001b[1m4 passed\u001b[0m\u001b[32m in 0.04s\u001b[0m\u001b[0m\n"
     ]
    },
    {
     "data": {
      "text/plain": [
       "<ExitCode.OK: 0>"
      ]
     },
     "execution_count": 2,
     "metadata": {},
     "output_type": "execute_result"
    }
   ],
   "source": [
    "%pip install -q ipytest\n",
    "import ipytest\n",
    "ipytest.autoconfig()\n",
    "\n",
    "def test_positive_review():\n",
    "    result = vader_sentiment(\"I absolutely love this product! It exceeded all my expectations and I would highly recommend it to anyone.\")\n",
    "    assert isinstance(result, float)\n",
    "    assert result > 0.0\n",
    "\n",
    "def test_negative_feedback():\n",
    "    result = vader_sentiment(\"The customer service was terrible. I waited for hours and my issue was never resolved properly.\")\n",
    "    assert isinstance(result, float)\n",
    "    assert result < 0.0\n",
    "\n",
    "def test_neutral_statement():\n",
    "    result = vader_sentiment(\"Our company will be conducting the annual inventory count on June 15th. All departments will participate as scheduled.\")\n",
    "    assert isinstance(result, float)\n",
    "    assert -0.3 < result < 0.3\n",
    "\n",
    "def test_mixed_sentiment():\n",
    "    result = vader_sentiment(\"While the product quality is excellent, the shipping was delayed which was disappointing.\")\n",
    "    assert isinstance(result, float)\n",
    "    assert -1.0 <= result <= 1.0\n",
    "\n",
    "ipytest.run()"
   ]
  },
  {
   "cell_type": "code",
   "execution_count": 3,
   "id": "eb85f51d",
   "metadata": {},
   "outputs": [
    {
     "name": "stderr",
     "output_type": "stream",
     "text": [
      "c:\\Users\\brent\\Code\\python-apps\\.venv\\Lib\\site-packages\\tqdm\\auto.py:21: TqdmWarning: IProgress not found. Please update jupyter and ipywidgets. See https://ipywidgets.readthedocs.io/en/stable/user_install.html\n",
      "  from .autonotebook import tqdm as notebook_tqdm\n"
     ]
    },
    {
     "name": "stdout",
     "output_type": "stream",
     "text": [
      "* Running on local URL:  http://127.0.0.1:7872\n",
      "* To create a public link, set `share=True` in `launch()`.\n"
     ]
    },
    {
     "data": {
      "text/html": [
       "<div><iframe src=\"http://127.0.0.1:7872/\" width=\"100%\" height=\"500\" allow=\"autoplay; camera; microphone; clipboard-read; clipboard-write;\" frameborder=\"0\" allowfullscreen></iframe></div>"
      ],
      "text/plain": [
       "<IPython.core.display.HTML object>"
      ]
     },
     "metadata": {},
     "output_type": "display_data"
    },
    {
     "data": {
      "text/plain": []
     },
     "execution_count": 3,
     "metadata": {},
     "output_type": "execute_result"
    }
   ],
   "source": [
    "# Interactive Demo\n",
    "import gradio as gr\n",
    "\n",
    "default_text = \"I absolutely love this product! It exceeded all my expectations and I would highly recommend it to anyone.\"\n",
    "examples = [\n",
    "    [\"I absolutely love this product! It exceeded all my expectations and I would highly recommend it to anyone.\"],\n",
    "    [\"The customer service was terrible. I waited for hours and my issue was never resolved properly.\"],\n",
    "    [\"Our company will be conducting the annual inventory count on June 15th. All departments will participate as scheduled.\"],\n",
    "    [\"While the product quality is excellent, the shipping was delayed which was disappointing.\"]\n",
    "]\n",
    "\n",
    "demo = gr.Interface(\n",
    "    fn=vader_sentiment,\n",
    "    inputs=gr.Textbox(label=\"Text\", value=default_text),\n",
    "    outputs=gr.Number(label=\"Compound Score\"),\n",
    "    examples=examples,\n",
    "    description=\"Analyze the sentiment of text using the VADER sentiment analyzer.\",\n",
    "    flagging_mode=\"never\",\n",
    ")\n",
    "demo.launch()"
   ]
  }
 ],
 "metadata": {
  "kernelspec": {
   "display_name": ".venv",
   "language": "python",
   "name": "python3"
  },
  "language_info": {
   "codemirror_mode": {
    "name": "ipython",
    "version": 3
   },
   "file_extension": ".py",
   "mimetype": "text/x-python",
   "name": "python",
   "nbconvert_exporter": "python",
   "pygments_lexer": "ipython3",
   "version": "3.13.3"
  }
 },
 "nbformat": 4,
 "nbformat_minor": 5
}
