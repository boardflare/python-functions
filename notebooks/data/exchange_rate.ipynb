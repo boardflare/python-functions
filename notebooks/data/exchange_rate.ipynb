{
 "cells": [
  {
   "cell_type": "markdown",
   "id": "02e05d0d",
   "metadata": {},
   "source": [
    "# EXCHANGE_RATE\n",
    "\n",
    "## Overview\n",
    "This function retrieves the exchange rate from a base currency to a target currency using a public exchange rate API.  Supports all 161 commonly circulating world currencies, as listed in the [ExchangeRate-API Supported Currencies documentation](https://www.exchangerate-api.com/docs/supported-currencies), e.g. USD, EUR, GBP, JPY, SGD, HKD, MYR, CNY, AUD, CAD, INR, and many more.  See [API Documentation](https://www.exchangerate-api.com/docs/overview) for details.\n",
    "\n",
    "## Usage\n",
    "To use the `EXCHANGE_RATE` function in Excel, enter it as a formula in a cell, specifying the base and target currencies:\n",
    "\n",
    "```excel\n",
    "=EXCHANGE_RATE(base_currency, target_currency)\n",
    "```\n",
    "- `base_currency` and `target_currency` must be single currency codes (e.g., \"USD\", \"SGD\").\n",
    "\n",
    "## Parameters\n",
    "| Parameter       | Type   | Required | Description                                   | Example |\n",
    "|----------------|--------|----------|-----------------------------------------------|---------|\n",
    "| base_currency  | string | Yes      | The base currency code (e.g., \"USD\").        | \"USD\"  |\n",
    "| target_currency| string | Yes      | The target currency code (e.g., \"SGD\").      | \"SGD\"  |\n",
    "\n",
    "## Return Value\n",
    "| Return Value | Type   | Description                                  | Example |\n",
    "|--------------|--------|----------------------------------------------|---------|\n",
    "| Rate         | float  | The exchange rate from base to target.        | 1.345   |\n",
    "| Error        | string | Error message if input or API call fails.     | \"Error: Invalid currency code\" |\n",
    "\n",
    "## Examples\n",
    "\n",
    "### USD to SGD\n",
    "- **Input:**\n",
    "    - base_currency: \"USD\"\n",
    "    - target_currency: \"SGD\"\n",
    "- **Excel Formula:**\n",
    "    ```excel\n",
    "    =EXCHANGE_RATE(\"USD\", \"SGD\")\n",
    "    ```\n",
    "- **Output:**\n",
    "    - 1.345 (actual value will vary)\n",
    "\n",
    "### EUR to USD\n",
    "- **Input:**\n",
    "    - base_currency: \"EUR\"\n",
    "    - target_currency: \"USD\"\n",
    "- **Excel Formula:**\n",
    "    ```excel\n",
    "    =EXCHANGE_RATE(\"EUR\", \"USD\")\n",
    "    ```\n",
    "- **Output:**\n",
    "    - 1.085 (actual value will vary)"
   ]
  },
  {
   "cell_type": "code",
   "execution_count": 1,
   "id": "5a25a50b",
   "metadata": {},
   "outputs": [],
   "source": [
    "import requests\n",
    "\n",
    "def exchange_rate(base_currency = \"EUR\", target_currency = \"USD\"):\n",
    "    \"\"\"\n",
    "    Get exchange rate from a base currency to a single target currency.\n",
    "    Only accepts string inputs for both base and target currency codes.\n",
    "\n",
    "    Args:\n",
    "        base_currency (str): Base currency code (ISO 4217, e.g., EUR, USD, GBP, JPY, etc.)\n",
    "        target_currency (str): Target currency code (ISO 4217)\n",
    "\n",
    "    Returns:\n",
    "        float: Exchange rate as a single value, or error message as string\n",
    "    \"\"\"\n",
    "    try:\n",
    "        url = f\"https://api.exchangerate-api.com/v4/latest/{base_currency}\"\n",
    "        response = requests.get(url)\n",
    "        if response.status_code == 200:\n",
    "            data = response.json()\n",
    "            if target_currency in data['rates']:\n",
    "                return data['rates'][target_currency]\n",
    "            else:\n",
    "                return f\"Target currency '{target_currency}' not found in API response. See https://www.exchangerate-api.com/docs/supported-currencies.\"\n",
    "        else:\n",
    "            return f\"Error fetching exchange rates: HTTP {response.status_code}\"\n",
    "    except Exception as e:\n",
    "        return f\"Error: {str(e)}\""
   ]
  },
  {
   "cell_type": "code",
   "execution_count": 2,
   "id": "90772514",
   "metadata": {},
   "outputs": [
    {
     "name": "stdout",
     "output_type": "stream",
     "text": [
      "\u001b[32m.\u001b[0m\u001b[32m.\u001b[0m\u001b[32m.\u001b[0m\u001b[32m.\u001b[0m\u001b[32m.\u001b[0m\u001b[32m.\u001b[0m\u001b[32m                                                                                         [100%]\u001b[0m\u001b[32m.\u001b[0m\u001b[32m                                                                                         [100%]\u001b[0m\n",
      "\u001b[32m\u001b[32m\u001b[1m4 passed\u001b[0m\u001b[32m in 2.41s\u001b[0m\u001b[0m\n",
      "\n",
      "\u001b[32m\u001b[32m\u001b[1m4 passed\u001b[0m\u001b[32m in 2.41s\u001b[0m\u001b[0m\n"
     ]
    },
    {
     "data": {
      "text/plain": [
       "<ExitCode.OK: 0>"
      ]
     },
     "execution_count": 2,
     "metadata": {},
     "output_type": "execute_result"
    }
   ],
   "source": [
    "# Unit Tests\n",
    "import ipytest\n",
    "ipytest.autoconfig()\n",
    "\n",
    "def test_usd_to_sgd():\n",
    "    result = exchange_rate(\"USD\", \"SGD\")\n",
    "    assert isinstance(result, (float, str))\n",
    "\n",
    "def test_eur_to_usd():\n",
    "    result = exchange_rate(\"EUR\", \"USD\")\n",
    "    assert isinstance(result, (float, str))\n",
    "\n",
    "def test_unsupported_base():\n",
    "    result = exchange_rate(\"ABC\", \"USD\")\n",
    "    assert isinstance(result, str)\n",
    "    assert (\"Error\" in result or \"not found\" in result or \"HTTP\" in result)\n",
    "\n",
    "def test_unsupported_target():\n",
    "    result = exchange_rate(\"USD\", \"XYZ\")\n",
    "    assert isinstance(result, str)\n",
    "    assert (\"Error\" in result or \"not found\" in result or \"HTTP\" in result)\n",
    "\n",
    "ipytest.run()"
   ]
  },
  {
   "cell_type": "code",
   "execution_count": 3,
   "id": "dc18bf63",
   "metadata": {},
   "outputs": [
    {
     "name": "stderr",
     "output_type": "stream",
     "text": [
      "c:\\Users\\brent\\Code\\python-apps\\.venv\\Lib\\site-packages\\tqdm\\auto.py:21: TqdmWarning: IProgress not found. Please update jupyter and ipywidgets. See https://ipywidgets.readthedocs.io/en/stable/user_install.html\n",
      "  from .autonotebook import tqdm as notebook_tqdm\n"
     ]
    },
    {
     "name": "stdout",
     "output_type": "stream",
     "text": [
      "* Running on local URL:  http://127.0.0.1:7866\n",
      "* To create a public link, set `share=True` in `launch()`.\n",
      "* To create a public link, set `share=True` in `launch()`.\n"
     ]
    },
    {
     "data": {
      "text/html": [
       "<div><iframe src=\"http://127.0.0.1:7866/\" width=\"100%\" height=\"500\" allow=\"autoplay; camera; microphone; clipboard-read; clipboard-write;\" frameborder=\"0\" allowfullscreen></iframe></div>"
      ],
      "text/plain": [
       "<IPython.core.display.HTML object>"
      ]
     },
     "metadata": {},
     "output_type": "display_data"
    },
    {
     "data": {
      "text/plain": []
     },
     "execution_count": 3,
     "metadata": {},
     "output_type": "execute_result"
    }
   ],
   "source": [
    "# Demo Examples\n",
    "import gradio as gr\n",
    "\n",
    "examples = [\n",
    "    [\"USD\", \"SGD\"],\n",
    "    [\"EUR\", \"USD\"],\n",
    "    [\"SGD\", \"MYR\"]\n",
    "]\n",
    "\n",
    "demo = gr.Interface(\n",
    "    fn=exchange_rate,\n",
    "    inputs=[\n",
    "        gr.Textbox(label=\"Base Currency (e.g., USD)\", value=\"USD\"),\n",
    "        gr.Textbox(label=\"Target Currency (e.g., SGD)\", value=\"SGD\"),\n",
    "    ],\n",
    "    outputs=gr.Textbox(label=\"Exchange Rate or Error Message\"),\n",
    "    examples=examples,\n",
    "    description=\"Retrieve the exchange rate from a base currency to a target currency using a public API.\",\n",
    "    flagging_mode=\"never\",\n",
    ")\n",
    "demo.launch()"
   ]
  }
 ],
 "metadata": {
  "kernelspec": {
   "display_name": ".venv",
   "language": "python",
   "name": "python3"
  },
  "language_info": {
   "codemirror_mode": {
    "name": "ipython",
    "version": 3
   },
   "file_extension": ".py",
   "mimetype": "text/x-python",
   "name": "python",
   "nbconvert_exporter": "python",
   "pygments_lexer": "ipython3",
   "version": "3.13.3"
  }
 },
 "nbformat": 4,
 "nbformat_minor": 5
}
