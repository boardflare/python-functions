{
    "cells": [
        {
            "cell_type": "markdown",
            "id": "1f662f35",
            "metadata": {},
            "source": [
                "# ENTITY_TYPE\n",
                "\n",
                "Returns a dictionary representing an Excel entity data type, suitable for use as a custom data type in Excel. This function is useful for creating structured data cards with properties and images, which can be consumed by Excel add-ins or custom connectors.\n",
                "\n",
                "## Usage\n",
                "```excel\n",
                "=ENTITY_TYPE([text], [discontinued], [image_url])\n",
                "```\n",
                "\n",
                "| Argument      | Type    | Required/Optional | Description                                      | Example                                      |\n",
                "|--------------|---------|-------------------|--------------------------------------------------|----------------------------------------------|\n",
                "| text         | string  | Optional          | Display name for the entity                      | \"Chai\"                                      |\n",
                "| discontinued | bool    | Optional          | Whether the item is discontinued                 | FALSE                                        |\n",
                "| image_url    | string  | Optional          | URL to an image representing the entity          | \"https://upload.wikimedia.org/.../Chai.JPG\"  |\n",
                "\n",
                "| Return Value | Type     | Description                                         | Example |\n",
                "|--------------|----------|-----------------------------------------------------|---------|\n",
                "| Entity       | dict     | Dictionary representing an Excel entity data type    | See below |\n",
                "| Error        | string   | Error message if input is invalid                   | \"Error: Invalid input\" |\n",
                "\n",
                "## Limitations\n",
                "- Only the fields shown above are supported in this example.\n",
                "- The returned dictionary must be consumed by an Excel add-in or connector that understands the entity data type format.\n",
                "- Image URLs must be accessible from Excel.\n",
                "\n",
                "## Examples\n",
                "\n",
                "### Basic entity\n",
                "**Input:**\n",
                "- text: `\"Chai\"`\n",
                "- discontinued: `FALSE`\n",
                "- image_url: `\"https://upload.wikimedia.org/wikipedia/commons/thumb/0/04/Masala_Chai.JPG/320px-Masala_Chai.JPG\"`\n",
                "\n",
                "**Function call:**\n",
                "```excel\n",
                "=ENTITY_TYPE(\"Chai\", FALSE, \"https://upload.wikimedia.org/wikipedia/commons/thumb/0/04/Masala_Chai.JPG/320px-Masala_Chai.JPG\")\n",
                "```\n",
                "**Output:**\n",
                "| Key        | Value                                                                 |\n",
                "|------------|-----------------------------------------------------------------------|\n",
                "| type       | `\"Entity\"`                                                             |\n",
                "| text       | `\"Chai\"`                                                               |\n",
                "| properties | `{\"Discontinued\": {\"type\": \"Boolean\", \"basicValue\": False}, \"Image\": {\"type\": \"WebImage\", \"address\": \"https://upload.wikimedia.org/wikipedia/commons/thumb/0/04/Masala_Chai.JPG/320px-Masala_Chai.JPG\"}}` |\n",
                "\n",
                "### Discontinued product\n",
                "**Input:**\n",
                "- text: `\"Old Product\"`\n",
                "- discontinued: `TRUE`\n",
                "- image_url: `\"https://example.com/old_product.jpg\"`\n",
                "\n",
                "**Function call:**\n",
                "```excel\n",
                "=ENTITY_TYPE(\"Old Product\", TRUE, \"https://example.com/old_product.jpg\")\n",
                "```\n",
                "**Output:**\n",
                "| Key        | Value                                                                 |\n",
                "|------------|-----------------------------------------------------------------------|\n",
                "| type       | `\"Entity\"`                                                             |\n",
                "| text       | `\"Old Product\"`                                                        |\n",
                "| properties | `{\"Discontinued\": {\"type\": \"Boolean\", \"basicValue\": True}, \"Image\": {\"type\": \"WebImage\", \"address\": \"https://example.com/old_product.jpg\"}}` |"
            ]
        },
        {
            "cell_type": "code",
            "execution_count": 1,
            "id": "cc023e04",
            "metadata": {},
            "outputs": [],
            "source": [
                "import typing\n",
                "\n",
                "def entity_type(text: str = \"Chai\", discontinued: bool = False, image_url: str = \"https://upload.wikimedia.org/wikipedia/commons/thumb/0/04/Masala_Chai.JPG/320px-Masala_Chai.JPG\") -> typing.Union[dict, str]:\n",
                "    \"\"\"\n",
                "    Returns a dictionary representing an Excel entity data type with the specified properties.\n",
                "\n",
                "    Args:\n",
                "        text (str, optional): Display name for the entity. Defaults to \"Chai\".\n",
                "        discontinued (bool, optional): Whether the item is discontinued. Defaults to False.\n",
                "        image_url (str, optional): URL to an image representing the entity. Defaults to a sample image.\n",
                "\n",
                "    Returns:\n",
                "        dict: Dictionary representing an Excel entity data type.\n",
                "        str: Error message if input is invalid.\n",
                "    \"\"\"\n",
                "    if not isinstance(text, str) or not text:\n",
                "        return \"Error: 'text' must be a non-empty string\"\n",
                "    if not isinstance(discontinued, bool):\n",
                "        return \"Error: 'discontinued' must be a boolean value\"\n",
                "    if not isinstance(image_url, str) or not image_url.startswith(\"http\"):\n",
                "        return \"Error: 'image_url' must be a valid URL string\"\n",
                "    return {\n",
                "        \"type\": \"Entity\",\n",
                "        \"text\": text,\n",
                "        \"properties\": {\n",
                "            \"Discontinued\": {\n",
                "                \"type\": \"Boolean\",\n",
                "                \"basicValue\": discontinued\n",
                "            },\n",
                "            \"Image\": {\n",
                "                \"type\": \"WebImage\",\n",
                "                \"address\": image_url\n",
                "            }\n",
                "        }\n",
                "    }"
            ]
        },
        {
            "cell_type": "code",
            "execution_count": 2,
            "id": "142ce3d2",
            "metadata": {},
            "outputs": [
                {
                    "name": "stdout",
                    "output_type": "stream",
                    "text": [
                        "\u001b[32m.\u001b[0m\u001b[32m.\u001b[0m\u001b[32m.\u001b[0m\u001b[32m.\u001b[0m\u001b[32m.\u001b[0m\u001b[32m                                                                                        [100%]\u001b[0m\n",
                        "\u001b[32m\u001b[32m\u001b[1m5 passed\u001b[0m\u001b[32m in 0.01s\u001b[0m\u001b[0m\n",
                        "\u001b[32m.\u001b[0m\u001b[32m.\u001b[0m\u001b[32m.\u001b[0m\u001b[32m.\u001b[0m\u001b[32m                                                                                        [100%]\u001b[0m\n",
                        "\u001b[32m\u001b[32m\u001b[1m5 passed\u001b[0m\u001b[32m in 0.01s\u001b[0m\u001b[0m\n"
                    ]
                },
                {
                    "data": {
                        "text/plain": [
                            "<ExitCode.OK: 0>"
                        ]
                    },
                    "execution_count": 2,
                    "metadata": {},
                    "output_type": "execute_result"
                }
            ],
            "source": [
                "import ipytest\n",
                "ipytest.autoconfig()\n",
                "\n",
                "def test_entity_type_valid():\n",
                "    result = entity_type(\"Chai\", False, \"https://upload.wikimedia.org/wikipedia/commons/thumb/0/04/Masala_Chai.JPG/320px-Masala_Chai.JPG\")\n",
                "    assert isinstance(result, dict)\n",
                "    assert result[\"type\"] == \"Entity\"\n",
                "    assert result[\"text\"] == \"Chai\"\n",
                "    assert isinstance(result[\"properties\"], dict)\n",
                "    assert result[\"properties\"][\"Discontinued\"][\"basicValue\"] is False\n",
                "    assert result[\"properties\"][\"Image\"][\"address\"].startswith(\"http\")\n",
                "\n",
                "def test_entity_type_discontinued():\n",
                "    result = entity_type(\"Old Product\", True, \"https://example.com/old_product.jpg\")\n",
                "    assert isinstance(result, dict)\n",
                "    assert result[\"text\"] == \"Old Product\"\n",
                "    assert result[\"properties\"][\"Discontinued\"][\"basicValue\"] is True\n",
                "\n",
                "def test_entity_type_invalid_text():\n",
                "    result = entity_type(123, False, \"https://example.com/img.jpg\")\n",
                "    assert isinstance(result, str) and \"Error\" in result\n",
                "\n",
                "def test_entity_type_invalid_discontinued():\n",
                "    result = entity_type(\"Chai\", \"no\", \"https://example.com/img.jpg\")\n",
                "    assert isinstance(result, str) and \"Error\" in result\n",
                "\n",
                "def test_entity_type_invalid_image_url():\n",
                "    result = entity_type(\"Chai\", False, \"not_a_url\")\n",
                "    assert isinstance(result, str) and \"Error\" in result\n",
                "\n",
                "ipytest.run()"
            ]
        },
        {
            "cell_type": "code",
            "execution_count": null,
            "id": "4bdec68f",
            "metadata": {},
            "outputs": [
                {
                    "name": "stderr",
                    "output_type": "stream",
                    "text": [
                        "c:\\Users\\brent\\Code\\python-apps\\.venv\\Lib\\site-packages\\tqdm\\auto.py:21: TqdmWarning: IProgress not found. Please update jupyter and ipywidgets. See https://ipywidgets.readthedocs.io/en/stable/user_install.html\n",
                        "  from .autonotebook import tqdm as notebook_tqdm\n"
                    ]
                },
                {
                    "name": "stdout",
                    "output_type": "stream",
                    "text": [
                        "* Running on local URL:  http://127.0.0.1:7860\n",
                        "* To create a public link, set `share=True` in `launch()`.\n",
                        "* To create a public link, set `share=True` in `launch()`.\n"
                    ]
                },
                {
                    "data": {
                        "text/html": [
                            "<div><iframe src=\"http://127.0.0.1:7860/\" width=\"100%\" height=\"500\" allow=\"autoplay; camera; microphone; clipboard-read; clipboard-write;\" frameborder=\"0\" allowfullscreen></iframe></div>"
                        ],
                        "text/plain": [
                            "<IPython.core.display.HTML object>"
                        ]
                    },
                    "metadata": {},
                    "output_type": "display_data"
                },
                {
                    "data": {
                        "text/plain": []
                    },
                    "execution_count": 3,
                    "metadata": {},
                    "output_type": "execute_result"
                }
            ],
            "source": [
                "import gradio as gr\n",
                "\n",
                "examples = [\n",
                "    [\"Chai\", False, \"https://upload.wikimedia.org/wikipedia/commons/thumb/0/04/Masala_Chai.JPG/320px-Masala_Chai.JPG\"],\n",
                "    [\"Old Product\", True, \"https://example.com/old_product.jpg\"]\n",
                "]\n",
                "\n",
                "demo = gr.Interface(\n",
                "    fn=entity_type,\n",
                "    inputs=[\n",
                "        gr.Textbox(label=\"Text\", value=\"Chai\"),\n",
                "        gr.Checkbox(label=\"Discontinued\", value=False),\n",
                "        gr.Textbox(label=\"Image URL\", value=\"https://upload.wikimedia.org/wikipedia/commons/thumb/0/04/Masala_Chai.JPG/320px-Masala_Chai.JPG\")\n",
                "    ],\n",
                "    outputs=\"json\",\n",
                "    examples=examples,\n",
                "    description=\"Create an Excel entity data type dictionary.\"\n",
                ")\n",
                "demo.launch()"
            ]
        }
    ],
    "metadata": {
        "kernelspec": {
            "display_name": ".venv",
            "language": "python",
            "name": "python3"
        },
        "language_info": {
            "codemirror_mode": {
                "name": "ipython",
                "version": 3
            },
            "file_extension": ".py",
            "mimetype": "text/x-python",
            "name": "python",
            "nbconvert_exporter": "python",
            "pygments_lexer": "ipython3",
            "version": "3.13.3"
        }
    },
    "nbformat": 4,
    "nbformat_minor": 5
}
