{
 "cells": [
  {
   "cell_type": "markdown",
   "id": "57deb5b9",
   "metadata": {},
   "source": [
    "# VAL_DISCRETE\n",
    "\n",
    "## Overview\n",
    "This function selects a value from a list based on a given discrete probability distribution. It is useful for simulations, random sampling, and business scenarios where outcomes are determined by weighted probabilities.\n",
    "\n",
    "## Usage\n",
    "To use the `VAL_DISCRETE` function in Excel, enter it as a formula in a cell, specifying the values and their associated probabilities:\n",
    "\n",
    "```excel\n",
    "=VAL_DISCRETE(values, distribution)\n",
    "```\n",
    "\n",
    "## Parameters\n",
    "| Parameter     | Type     | Required | Description                                              |\n",
    "|--------------|----------|----------|----------------------------------------------------------|\n",
    "| values       | 2D list  | Yes      | List of possible values to select from                   |\n",
    "| distribution | 2D list  | Yes      | List of probabilities (must sum to 1)                    |\n",
    "\n",
    "## Return Value\n",
    "| Return Value | Type   | Description                                 |\n",
    "|--------------|--------|---------------------------------------------|\n",
    "| Result       | Scalar | The value selected according to the weights. |\n",
    "\n",
    "## Limitations\n",
    "- The length of `values` and `distribution` must match.\n",
    "- Probabilities in `distribution` must sum to 1 (within floating point tolerance).\n",
    "- If `values` or `distribution` are empty, returns `None`.\n",
    "- If lengths do not match, returns `None`.\n",
    "- If probabilities do not sum to 1 (±0.01), returns `None`.\n",
    "- Handles both numbers and strings as values.\n",
    "- Returns a single value per call (not an array of samples).\n",
    "- Only supports numeric or string values.\n",
    "\n",
    "## Benefits\n",
    "- Enables Monte Carlo simulations and scenario analysis in Excel.\n",
    "- Automates random selection based on business-defined likelihoods.\n",
    "- More flexible and accurate than manual randomization in Excel.\n",
    "- Supports both numeric and string values for realistic business scenarios.\n",
    "\n",
    "## Examples\n",
    "\n",
    "### Simulate Customer Type\n",
    "Select a customer type based on the following values and probabilities:\n",
    "\n",
    "|   | A      | B         | C      |\n",
    "|---|--------|-----------|--------|\n",
    "| 1 | Retail | Wholesale | Online |\n",
    "| 2 | 0.6    | 0.3       | 0.1    |\n",
    "\n",
    "```excel\n",
    "=VAL_DISCRETE(A1:C1, A2:C2)\n",
    "```\n",
    "*Returns \"Retail\" 60% of the time, \"Wholesale\" 30% of the time, \"Online\" 10% of the time.*\n",
    "\n",
    "### Select Project Outcome\n",
    "Select a project outcome based on the following values and probabilities:\n",
    "\n",
    "|   | A        | B        |\n",
    "|---|----------|----------|\n",
    "| 1 | Success  | Failure  |\n",
    "| 2 | 0.8      | 0.2      |\n",
    "\n",
    "```excel\n",
    "=VAL_DISCRETE(A1:B1, A2:B2)\n",
    "```\n",
    "*Returns \"Success\" 80% of the time, \"Failure\" 20% of the time.*"
   ]
  },
  {
   "cell_type": "code",
   "execution_count": 1,
   "id": "8e6de30a",
   "metadata": {},
   "outputs": [],
   "source": [
    "import random\n",
    "from typing import List, Any, Optional\n",
    "\n",
    "def val_discrete(values: List[List[Any]], distribution: List[List[float]]) -> Optional[Any]:\n",
    "    \"\"\"\n",
    "    Selects a value from a list based on a discrete probability distribution.\n",
    "\n",
    "    Args:\n",
    "        values (list of lists): 2D list of possible values (Excel range or Python 2D list)\n",
    "        distribution (list of lists): 2D list of probabilities (must sum to 1)\n",
    "\n",
    "    Returns:\n",
    "        The selected value (scalar), or None if input is invalid.\n",
    "    \"\"\"\n",
    "    # Input validation\n",
    "    if not values or not distribution:\n",
    "        return None\n",
    "    if not isinstance(values, list) or not isinstance(distribution, list):\n",
    "        return None\n",
    "    if not values or not values[0] or not distribution or not distribution[0]:\n",
    "        return None\n",
    "    if len(values[0]) != len(distribution[0]):\n",
    "        return None\n",
    "    weights = distribution[0]\n",
    "    # Check if all weights are numbers and sum to 1 (±0.01)\n",
    "    try:\n",
    "        total = sum(float(w) for w in weights)\n",
    "        if abs(total - 1.0) > 0.01:\n",
    "            return None\n",
    "    except Exception:\n",
    "        return None\n",
    "    # Use random.choices to select\n",
    "    try:\n",
    "        return random.choices(values[0], weights=weights)[0]\n",
    "    except Exception:\n",
    "        return None"
   ]
  },
  {
   "cell_type": "code",
   "execution_count": 2,
   "id": "c61979aa",
   "metadata": {},
   "outputs": [
    {
     "name": "stdout",
     "output_type": "stream",
     "text": [
      "\u001b[32m.\u001b[0m\u001b[32m.\u001b[0m\u001b[32m.\u001b[0m\u001b[32m.\u001b[0m\u001b[32m.\u001b[0m\u001b[32m.\u001b[0m\u001b[32m                                                                                       [100%]\u001b[0m\u001b[32m.\u001b[0m\u001b[32m.\u001b[0m\u001b[32m.\u001b[0m\u001b[32m.\u001b[0m\u001b[32m.\u001b[0m\u001b[32m                                                                                       [100%]\u001b[0m\n",
      "\u001b[32m\u001b[32m\u001b[1m6 passed\u001b[0m\u001b[32m in 0.02s\u001b[0m\u001b[0m\n",
      "\n",
      "\u001b[32m\u001b[32m\u001b[1m6 passed\u001b[0m\u001b[32m in 0.02s\u001b[0m\u001b[0m\n"
     ]
    },
    {
     "data": {
      "text/plain": [
       "<ExitCode.OK: 0>"
      ]
     },
     "execution_count": 2,
     "metadata": {},
     "output_type": "execute_result"
    }
   ],
   "source": [
    "# Unit Tests\n",
    "import ipytest\n",
    "ipytest.autoconfig()\n",
    "\n",
    "def test_demo_customer_type():\n",
    "    values = [[\"Retail\", \"Wholesale\", \"Online\"]]\n",
    "    distribution = [[0.6, 0.3, 0.1]]\n",
    "    result = val_discrete(values, distribution)\n",
    "    assert result in [\"Retail\", \"Wholesale\", \"Online\"]\n",
    "\n",
    "def test_demo_project_outcome():\n",
    "    values = [[\"Success\", \"Failure\"]]\n",
    "    distribution = [[0.8, 0.2]]\n",
    "    result = val_discrete(values, distribution)\n",
    "    assert result in [\"Success\", \"Failure\"]\n",
    "\n",
    "def test_numeric_values():\n",
    "    values = [[1, 2, 3]]\n",
    "    distribution = [[0.2, 0.5, 0.3]]\n",
    "    result = val_discrete(values, distribution)\n",
    "    assert result in [1, 2, 3]\n",
    "\n",
    "def test_probabilities_not_sum_to_1():\n",
    "    values = [[\"A\", \"B\"]]\n",
    "    distribution = [[0.7, 0.7]]\n",
    "    result = val_discrete(values, distribution)\n",
    "    assert result is None\n",
    "\n",
    "def test_empty_input():\n",
    "    values = []\n",
    "    distribution = []\n",
    "    result = val_discrete(values, distribution)\n",
    "    assert result is None\n",
    "\n",
    "def test_mismatched_lengths():\n",
    "    values = [[1, 2]]\n",
    "    distribution = [[0.5]]\n",
    "    result = val_discrete(values, distribution)\n",
    "    assert result is None\n",
    "\n",
    "ipytest.run()"
   ]
  },
  {
   "cell_type": "code",
   "execution_count": 4,
   "id": "8e48044a",
   "metadata": {},
   "outputs": [
    {
     "name": "stdout",
     "output_type": "stream",
     "text": [
      "* Running on local URL:  http://127.0.0.1:7880\n",
      "* To create a public link, set `share=True` in `launch()`.\n"
     ]
    },
    {
     "data": {
      "text/html": [
       "<div><iframe src=\"http://127.0.0.1:7880/\" width=\"100%\" height=\"500\" allow=\"autoplay; camera; microphone; clipboard-read; clipboard-write;\" frameborder=\"0\" allowfullscreen></iframe></div>"
      ],
      "text/plain": [
       "<IPython.core.display.HTML object>"
      ]
     },
     "metadata": {},
     "output_type": "display_data"
    },
    {
     "data": {
      "text/plain": []
     },
     "execution_count": 4,
     "metadata": {},
     "output_type": "execute_result"
    }
   ],
   "source": [
    "# Interactive Demo\n",
    "import gradio as gr\n",
    "\n",
    "examples = [\n",
    "    [[[\"Retail\", \"Wholesale\", \"Online\"]], [[0.6, 0.3, 0.1]]],\n",
    "    [[[\"Success\", \"Failure\"]], [[0.8, 0.2]]],\n",
    "    [[[1, 2, 3]], [[0.2, 0.5, 0.3]]]\n",
    "]\n",
    "\n",
    "demo = gr.Interface(\n",
    "    fn=val_discrete,\n",
    "    inputs=[\n",
    "        gr.Dataframe(headers=[\"Value 1\", \"Value 2\", \"Value 3\"], label=\"Values\", row_count=1, col_count=3, type=\"array\", value=[[\"Retail\", \"Wholesale\", \"Online\"]]),\n",
    "        gr.Dataframe(headers=[\"Prob 1\", \"Prob 2\", \"Prob 3\"], label=\"Distribution\", row_count=1, col_count=3, type=\"array\", value=[[0.6, 0.3, 0.1]]),\n",
    "    ],\n",
    "    outputs=gr.Textbox(label=\"Selected Value\"),\n",
    "    examples=examples,\n",
    "    description=\"Select a value from a list based on a discrete probability distribution.\",\n",
    "    flagging_mode=\"never\",\n",
    ")\n",
    "demo.launch()"
   ]
  }
 ],
 "metadata": {
  "kernelspec": {
   "display_name": ".venv",
   "language": "python",
   "name": "python3"
  },
  "language_info": {
   "codemirror_mode": {
    "name": "ipython",
    "version": 3
   },
   "file_extension": ".py",
   "mimetype": "text/x-python",
   "name": "python",
   "nbconvert_exporter": "python",
   "pygments_lexer": "ipython3",
   "version": "3.13.3"
  }
 },
 "nbformat": 4,
 "nbformat_minor": 5
}
