{
 "cells": [
  {
   "cell_type": "markdown",
   "id": "c24408a1",
   "metadata": {},
   "source": [
    "# SYMBOLIC_HESSIAN\n",
    "\n",
    "## Overview\n",
    "\n",
    "Computes the Hessian matrix (second derivatives) of a scalar function with respect to its variables. This function enables business users to analyze curvature, perform advanced optimization, and understand the local behavior of functions directly in Excel. It leverages the CasADi package for symbolic and numeric differentiation, and is accessible via the Boardflare Python for Excel add-in.\n",
    "\n",
    "## Usage\n",
    "\n",
    "To use the `SYMBOLIC_HESSIAN` function in Excel, enter it as a formula in a cell, specifying your function, variable values, and variable names:\n",
    "\n",
    "```excel\n",
    "=SYMBOLIC_HESSIAN(expression, variables, [variable_names])\n",
    "```\n",
    "\n",
    "## Arguments\n",
    "\n",
    "| Argument       | Type           | Required | Description                                                                 | Example                       |\n",
    "|----------------|----------------|----------|-----------------------------------------------------------------------------|-------------------------------|\n",
    "| expression     | string         | Yes      | Symbolic expression for the scalar function.                                | `\"x**2 + 3*x*y + y**2\"`        |\n",
    "| variables      | 2D list float  | Yes      | Point at which to evaluate the Hessian (values for each variable).          | `[[1.0, 2.0]]`                  |\n",
    "| variable_names | 2D list string | No       | Names of the variables (if not inferred from the expression).               | `[[\"x\", \"y\"]]`                |\n",
    "\n",
    "## Returns\n",
    "\n",
    "| Type         | Description                                                      | Example         |\n",
    "|--------------|------------------------------------------------------------------|-----------------|\n",
    "| list[list[float]]| The Hessian matrix evaluated at the given point.                  | `[[2.0, 3.0], [3.0, 2.0]]` |\n",
    "| str          | Error message if the calculation fails or input is invalid.       | `\"Invalid input: expression must be a valid scalar function.\"` |\n",
    "\n",
    "## Examples\n",
    "\n",
    "**Risk Analysis in Finance**\n",
    "\n",
    "*Business context*: A financial analyst wants to compute the Hessian of a risk function to understand how portfolio risk changes with respect to asset allocations.\n",
    "\n",
    "Excel usage:\n",
    "\n",
    "```excel\n",
    "=SYMBOLIC_HESSIAN(\"x**2 + 3*x*y + y**2\", {1.0, 2.0}, {\"x\", \"y\"})\n",
    "```\n",
    "\n",
    "*Expected outcome*: Returns the Hessian matrix at the point (1.0, 2.0).\n",
    "\n",
    "**Engineering Design Sensitivity**\n",
    "\n",
    "*Business context*: An engineer analyzes the curvature of a cost function to assess sensitivity to design variables.\n",
    "\n",
    "Excel usage:\n",
    "\n",
    "```excel\n",
    "=SYMBOLIC_HESSIAN(\"x**4 + y**4 + 2*x**2*y**2\", {1.0, 1.0}, {\"x\", \"y\"})\n",
    "```\n",
    "\n",
    "*Expected outcome*: Returns the Hessian matrix at the point (1.0, 1.0).\n",
    "\n",
    "## Limitations\n",
    "\n",
    "- The function must be a valid scalar expression in Python syntax.\n",
    "- Only supports scalar or 2D list arguments of type float or string.\n",
    "- The Hessian is only defined for scalar-valued functions.\n",
    "\n",
    "## Benefits\n",
    "\n",
    "Excel does not provide built-in tools for symbolic or numeric Hessian calculation. This Python function, powered by CasADi, enables advanced sensitivity and curvature analysis directly in Excel, which would otherwise require complex manual calculations or external tools."
   ]
  },
  {
   "cell_type": "code",
   "execution_count": 4,
   "id": "bd1d4498",
   "metadata": {},
   "outputs": [],
   "source": [
    "import casadi as ca\n",
    "\n",
    "def symbolic_hessian(expression, variables, variable_names=None):\n",
    "    \"\"\"\n",
    "    Computes the Hessian matrix (second derivatives) of a scalar function with respect to its variables.\n",
    "\n",
    "    Args:\n",
    "        expression: A string representing the scalar function (e.g., \"x**2 + 3*x*y + y**2\").\n",
    "        variables: 2D list of floats, point at which to evaluate the Hessian (e.g., [[1.0, 2.0]]).\n",
    "        variable_names: 2D list of strings (optional), names of the variables (e.g., [[\"x\", \"y\"]]).\n",
    "\n",
    "    Returns:\n",
    "        list[list[float]]: The Hessian matrix evaluated at the given point, or error message string.\n",
    "    \"\"\"\n",
    "    try:\n",
    "        if not isinstance(expression, str):\n",
    "            return \"expression must be a string.\"\n",
    "        if not (isinstance(variables, list) and len(variables) > 0 and isinstance(variables[0], list)):\n",
    "            return \"variables must be a 2D list of floats.\"\n",
    "        var_vals = variables[0]\n",
    "        if variable_names is not None:\n",
    "            if not (isinstance(variable_names, list) and len(variable_names) > 0 and isinstance(variable_names[0], list)):\n",
    "                return \"variable_names must be a 2D list of strings.\"\n",
    "            var_names = variable_names[0]\n",
    "        else:\n",
    "            import re\n",
    "            var_names = sorted(set(re.findall(r'\\\\b[a-zA-Z_]\\\\w*\\\\b', expression)))\n",
    "        if len(var_names) != len(var_vals):\n",
    "            return \"Error: Number of variable names and values must match.\"\n",
    "        sym_vars = [ca.MX.sym(name) for name in var_names]\n",
    "        vars_dict = {name: sym_vars[i] for i, name in enumerate(var_names)}\n",
    "        try:\n",
    "            expr = eval(expression, {**vars_dict, 'ca': ca})\n",
    "        except Exception as e:\n",
    "            return f\"Invalid expression: {str(e)}\"\n",
    "        H = ca.hessian(expr, ca.vertcat(*sym_vars))[0]\n",
    "        hess_func = ca.Function('hess_func', sym_vars, [H])\n",
    "        result_matrix = hess_func(*var_vals)\n",
    "        if isinstance(result_matrix, ca.DM):\n",
    "            return result_matrix.full().tolist()\n",
    "        else:\n",
    "            return \"Error during CasADi calculation: Unexpected result type.\"\n",
    "    except ca.CasadiException as e:\n",
    "        return f\"Error during CasADi calculation: {e}\"\n",
    "    except Exception as e:\n",
    "        return str(e)"
   ]
  },
  {
   "cell_type": "code",
   "execution_count": 5,
   "id": "86adae2b",
   "metadata": {},
   "outputs": [
    {
     "name": "stdout",
     "output_type": "stream",
     "text": [
      "\u001b[32m.\u001b[0m\u001b[32m.\u001b[0m\u001b[32m.\u001b[0m\u001b[32m.\u001b[0m\u001b[32m                                                                                         [100%]\u001b[0m\u001b[32m.\u001b[0m\u001b[32m.\u001b[0m\u001b[32m.\u001b[0m\u001b[32m                                                                                         [100%]\u001b[0m\n",
      "\u001b[32m\u001b[32m\u001b[1m4 passed\u001b[0m\u001b[32m in 0.02s\u001b[0m\u001b[0m\n",
      "\n",
      "\u001b[32m\u001b[32m\u001b[1m4 passed\u001b[0m\u001b[32m in 0.02s\u001b[0m\u001b[0m\n"
     ]
    },
    {
     "data": {
      "text/plain": [
       "<ExitCode.OK: 0>"
      ]
     },
     "execution_count": 5,
     "metadata": {},
     "output_type": "execute_result"
    }
   ],
   "source": [
    "# Unit Tests\n",
    "import ipytest\n",
    "ipytest.autoconfig()\n",
    "\n",
    "def test_demo_hessian_2vars():\n",
    "    result = symbolic_hessian(\n",
    "        \"x**2 + 3*x*y + y**2\",\n",
    "        [[1.0, 2.0]],\n",
    "        [[\"x\", \"y\"]]\n",
    "    )\n",
    "    assert isinstance(result, list)\n",
    "    assert len(result) == 2\n",
    "    assert all(isinstance(row, list) for row in result)\n",
    "\n",
    "def test_demo_hessian_2vars_poly():\n",
    "    result = symbolic_hessian(\n",
    "        \"x**4 + y**4 + 2*x**2*y**2\",\n",
    "        [[1.0, 1.0]],\n",
    "        [[\"x\", \"y\"]]\n",
    "    )\n",
    "    assert isinstance(result, list)\n",
    "    assert len(result) == 2\n",
    "    assert all(isinstance(row, list) for row in result)\n",
    "\n",
    "def test_error_invalid_expression():\n",
    "    result = symbolic_hessian(\n",
    "        \"x**2 +\",\n",
    "        [[1.0, 2.0]],\n",
    "        [[\"x\", \"y\"]]\n",
    "    )\n",
    "    assert isinstance(result, str) and (\"error\" in result.lower() or \"must be\" in result.lower() or \"invalid\" in result.lower())\n",
    "\n",
    "def test_error_mismatched_names_and_values():\n",
    "    result = symbolic_hessian(\n",
    "        \"x**2 + y**2\",\n",
    "        [[1.0]],\n",
    "        [[\"x\", \"y\"]]\n",
    "    )\n",
    "    assert isinstance(result, str) and (\"error\" in result.lower() or \"must be\" in result.lower() or \"invalid\" in result.lower())\n",
    "\n",
    "ipytest.run()"
   ]
  },
  {
   "cell_type": "code",
   "execution_count": 6,
   "id": "acfaf43c",
   "metadata": {},
   "outputs": [
    {
     "name": "stdout",
     "output_type": "stream",
     "text": [
      "* Running on local URL:  http://127.0.0.1:7876\n",
      "* To create a public link, set `share=True` in `launch()`.\n",
      "* To create a public link, set `share=True` in `launch()`.\n"
     ]
    },
    {
     "data": {
      "text/html": [
       "<div><iframe src=\"http://127.0.0.1:7876/\" width=\"100%\" height=\"500\" allow=\"autoplay; camera; microphone; clipboard-read; clipboard-write;\" frameborder=\"0\" allowfullscreen></iframe></div>"
      ],
      "text/plain": [
       "<IPython.core.display.HTML object>"
      ]
     },
     "metadata": {},
     "output_type": "display_data"
    },
    {
     "data": {
      "text/plain": []
     },
     "execution_count": 6,
     "metadata": {},
     "output_type": "execute_result"
    }
   ],
   "source": [
    "# Interactive Demo\n",
    "import gradio as gr\n",
    "\n",
    "examples = [\n",
    "    [\n",
    "        \"x**2 + 3*x*y + y**2\",\n",
    "        [[1.0, 2.0]],\n",
    "        [[\"x\", \"y\"]]\n",
    "    ],\n",
    "    [\n",
    "        \"x**4 + y**4 + 2*x**2*y**2\",\n",
    "        [[1.0, 1.0]],\n",
    "        [[\"x\", \"y\"]]\n",
    "    ]\n",
    "]\n",
    "\n",
    "demo = gr.Interface(\n",
    "    fn=symbolic_hessian,\n",
    "    inputs=[\n",
    "        gr.Textbox(label=\"Expression (e.g. x**2 + 3*x*y + y**2)\", lines=2, value=\"x**2 + 3*x*y + y**2\"),\n",
    "        gr.Dataframe(label=\"Variables (row: [x, y, ...])\", headers=None, type=\"array\", row_count=1, col_count=2, value=[[1.0, 2.0]]),\n",
    "        gr.Dataframe(label=\"Variable Names (row: [\\\"x\\\", \\\"y\\\", ...])\", headers=None, type=\"array\", row_count=1, col_count=2, value=[[\"x\", \"y\"]]),\n",
    "    ],\n",
    "    outputs=gr.Dataframe(label=\"Hessian Matrix or Error Message\"),\n",
    "    examples=examples,\n",
    "    description=\"Calculate the Hessian matrix of a scalar function symbolically.\",\n",
    "    flagging_mode=\"never\",\n",
    ")\n",
    "demo.launch()"
   ]
  }
 ],
 "metadata": {
  "kernelspec": {
   "display_name": ".venv",
   "language": "python",
   "name": "python3"
  },
  "language_info": {
   "codemirror_mode": {
    "name": "ipython",
    "version": 3
   },
   "file_extension": ".py",
   "mimetype": "text/x-python",
   "name": "python",
   "nbconvert_exporter": "python",
   "pygments_lexer": "ipython3",
   "version": "3.13.3"
  }
 },
 "nbformat": 4,
 "nbformat_minor": 5
}
