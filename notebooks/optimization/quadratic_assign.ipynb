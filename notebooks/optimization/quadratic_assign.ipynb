{
 "cells": [
  {
   "cell_type": "markdown",
   "id": "7171157c",
   "metadata": {},
   "source": [
    "# QUADRATIC_ASSIGN\n",
    "\n",
    "## Overview\n",
    "The QUADRATIC_ASSIGN function solves the quadratic assignment problem (QAP) using the `scipy.optimize.quadratic_assign` method. It finds the optimal assignment of facilities to locations to minimize the total cost, given a flow matrix and a distance matrix.\n",
    "\n",
    "## Usage\n",
    "To use the `QUADRATIC_ASSIGN` function in Excel, enter it as a formula in a cell, specifying your flow and distance matrices as 2D lists or Excel ranges:\n",
    "\n",
    "```excel\n",
    "=QUADRATIC_ASSIGN(flow_matrix, distance_matrix)\n",
    "```\n",
    "\n",
    "## Parameters\n",
    "| Parameter       | Type     | Required | Description                                         |\n",
    "|-----------------|----------|----------|-----------------------------------------------------|\n",
    "| flow_matrix     | 2D list  | Yes      | The flow between facilities (square matrix).         |\n",
    "| distance_matrix | 2D list  | Yes      | The distances between locations (square matrix).     |\n",
    "\n",
    "## Return Value\n",
    "| Return Value | Type     | Description                                                      |\n",
    "|--------------|----------|------------------------------------------------------------------|\n",
    "| Assignment   | 2D list  | A 2D list of [facility, location] pairs representing the optimal assignment.|\n",
    "\n",
    "## Limitations\n",
    "- Both matrices must be square and of the same size.\n",
    "- The function returns the assignment as a list of [facility, location] index pairs.\n",
    "- If the input is invalid, an error message string is returned.\n",
    "- Requires `scipy` (available in Pyodide).\n",
    "\n",
    "## Benefits\n",
    "- Solves complex facility location and layout problems in operations research.\n",
    "- Automates optimal resource allocation directly in Excel.\n",
    "- Fast and reliable for small to medium-sized matrices.\n",
    "\n",
    "## Examples\n",
    "\n",
    "### Example 1: Facility Assignment\n",
    "Assign 3 facilities to 3 locations to minimize total cost.\n",
    "\n",
    "**Input:**\n",
    "- Flow Matrix:\n",
    "  | 0 | 5 | 2 |\n",
    "  | 5 | 0 | 3 |\n",
    "  | 2 | 3 | 0 |\n",
    "- Distance Matrix:\n",
    "  | 0 | 2 | 3 |\n",
    "  | 2 | 0 | 1 |\n",
    "  | 3 | 1 | 0 |\n",
    "\n",
    "```excel\n",
    "=QUADRATIC_ASSIGN(A1:C3, D1:F3)\n",
    "```\n",
    "**Output:**\n",
    "```\n",
    "[[0, 2], [1, 0], [2, 1]]\n",
    "```"
   ]
  },
  {
   "cell_type": "code",
   "execution_count": 13,
   "id": "9a3ed470",
   "metadata": {},
   "outputs": [],
   "source": [
    "import numpy as np\n",
    "from scipy.optimize import quadratic_assignment\n",
    "\n",
    "def quadratic_assign(flow_matrix, distance_matrix):\n",
    "    \"\"\"\n",
    "    Solves the quadratic assignment problem (QAP) for given flow and distance matrices.\n",
    "\n",
    "    Args:\n",
    "        flow_matrix (list): 2D list representing the flow between facilities.\n",
    "        distance_matrix (list): 2D list representing the distances between locations.\n",
    "\n",
    "    Returns:\n",
    "        list: 2D list of [facility, location] assignments, or error message string.\n",
    "    \"\"\"\n",
    "    try:\n",
    "        flow = np.array(flow_matrix)\n",
    "        dist = np.array(distance_matrix)\n",
    "        if flow.ndim != 2 or dist.ndim != 2:\n",
    "            return \"Both inputs must be 2D lists (matrices).\"\n",
    "        if flow.shape != dist.shape or flow.shape[0] != flow.shape[1]:\n",
    "            return \"Both matrices must be square and of the same size.\"\n",
    "        result = quadratic_assignment(flow, dist)\n",
    "        if not hasattr(result, 'col_ind'):\n",
    "            return str(result)\n",
    "        assignment = [[int(i), int(j)] for i, j in enumerate(result.col_ind)]\n",
    "        return assignment\n",
    "    except Exception as e:\n",
    "        return str(e)"
   ]
  },
  {
   "cell_type": "code",
   "execution_count": 14,
   "id": "3a9b32ab",
   "metadata": {},
   "outputs": [
    {
     "name": "stdout",
     "output_type": "stream",
     "text": [
      "\u001b[32m.\u001b[0m\u001b[32m.\u001b[0m\u001b[32m.\u001b[0m\u001b[32m.\u001b[0m\u001b[32m                                                                                         [100%]\u001b[0m\n",
      "\u001b[32m\u001b[32m\u001b[1m4 passed\u001b[0m\u001b[32m in 0.02s\u001b[0m\u001b[0m\n",
      "\u001b[32m.\u001b[0m\u001b[32m.\u001b[0m\u001b[32m.\u001b[0m\u001b[32m                                                                                         [100%]\u001b[0m\n",
      "\u001b[32m\u001b[32m\u001b[1m4 passed\u001b[0m\u001b[32m in 0.02s\u001b[0m\u001b[0m\n"
     ]
    },
    {
     "data": {
      "text/plain": [
       "<ExitCode.OK: 0>"
      ]
     },
     "execution_count": 14,
     "metadata": {},
     "output_type": "execute_result"
    }
   ],
   "source": [
    "# Unit Tests\n",
    "import ipytest\n",
    "ipytest.autoconfig()\n",
    "\n",
    "def test_demo_basic_qap():\n",
    "    flow_matrix = [\n",
    "        [0, 5, 2],\n",
    "        [5, 0, 3],\n",
    "        [2, 3, 0]\n",
    "    ]\n",
    "    distance_matrix = [\n",
    "        [0, 2, 3],\n",
    "        [2, 0, 1],\n",
    "        [3, 1, 0]\n",
    "    ]\n",
    "    result = quadratic_assign(flow_matrix, distance_matrix)\n",
    "    assert isinstance(result, list)\n",
    "    assert all(isinstance(pair, list) and len(pair) == 2 for pair in result)\n",
    "    assert len(result) == 3\n",
    "\n",
    "def test_invalid_input_not_2d():\n",
    "    flow_matrix = [1, 2, 3]\n",
    "    distance_matrix = [1, 2, 3]\n",
    "    result = quadratic_assign(flow_matrix, distance_matrix)\n",
    "    assert isinstance(result, str) and len(result) > 0\n",
    "\n",
    "def test_invalid_shape():\n",
    "    flow_matrix = [\n",
    "        [0, 1],\n",
    "        [1, 0]\n",
    "    ]\n",
    "    distance_matrix = [\n",
    "        [0, 2, 3],\n",
    "        [2, 0, 1],\n",
    "        [3, 1, 0]\n",
    "    ]\n",
    "    result = quadratic_assign(flow_matrix, distance_matrix)\n",
    "    assert isinstance(result, str) and len(result) > 0\n",
    "\n",
    "def test_empty_matrix():\n",
    "    flow_matrix = []\n",
    "    distance_matrix = []\n",
    "    result = quadratic_assign(flow_matrix, distance_matrix)\n",
    "    assert isinstance(result, str) and len(result) > 0\n",
    "\n",
    "ipytest.run()"
   ]
  },
  {
   "cell_type": "code",
   "execution_count": 15,
   "id": "26798717",
   "metadata": {},
   "outputs": [
    {
     "name": "stdout",
     "output_type": "stream",
     "text": [
      "* Running on local URL:  http://127.0.0.1:7874\n",
      "* To create a public link, set `share=True` in `launch()`.\n",
      "* To create a public link, set `share=True` in `launch()`.\n"
     ]
    },
    {
     "data": {
      "text/html": [
       "<div><iframe src=\"http://127.0.0.1:7874/\" width=\"100%\" height=\"500\" allow=\"autoplay; camera; microphone; clipboard-read; clipboard-write;\" frameborder=\"0\" allowfullscreen></iframe></div>"
      ],
      "text/plain": [
       "<IPython.core.display.HTML object>"
      ]
     },
     "metadata": {},
     "output_type": "display_data"
    },
    {
     "data": {
      "text/plain": []
     },
     "execution_count": 15,
     "metadata": {},
     "output_type": "execute_result"
    }
   ],
   "source": [
    "# Interactive Demo\n",
    "import gradio as gr\n",
    "\n",
    "examples = [\n",
    "    [\n",
    "        [[0, 5, 2], [5, 0, 3], [2, 3, 0]],\n",
    "        [[0, 2, 3], [2, 0, 1], [3, 1, 0]]\n",
    "    ]\n",
    "]\n",
    "\n",
    "def gradio_quadratic_assign(flow_matrix, distance_matrix):\n",
    "    return quadratic_assign(flow_matrix, distance_matrix)\n",
    "\n",
    "demo = gr.Interface(\n",
    "    fn=gradio_quadratic_assign,\n",
    "    inputs=[\n",
    "        gr.Dataframe(headers=None, label=\"Flow Matrix\", row_count=3, col_count=3, type=\"array\",\n",
    "                     value=[[0, 5, 2], [5, 0, 3], [2, 3, 0]]),\n",
    "        gr.Dataframe(headers=None, label=\"Distance Matrix\", row_count=3, col_count=3, type=\"array\", \n",
    "                     value=[[0, 2, 3], [2, 0, 1], [3, 1, 0]]),\n",
    "    ],\n",
    "    outputs=gr.Dataframe(headers=[\"Facility\", \"Location\"], label=\"Assignments\"),\n",
    "    examples=examples,\n",
    "    description=\"Solve the Quadratic Assignment Problem (QAP) by providing flow and distance matrices. The output is a list of [facility, location] assignments.\",\n",
    "    flagging_mode=\"never\",\n",
    ")\n",
    "demo.launch()"
   ]
  }
 ],
 "metadata": {
  "kernelspec": {
   "display_name": ".venv",
   "language": "python",
   "name": "python3"
  },
  "language_info": {
   "codemirror_mode": {
    "name": "ipython",
    "version": 3
   },
   "file_extension": ".py",
   "mimetype": "text/x-python",
   "name": "python",
   "nbconvert_exporter": "python",
   "pygments_lexer": "ipython3",
   "version": "3.13.3"
  }
 },
 "nbformat": 4,
 "nbformat_minor": 5
}
