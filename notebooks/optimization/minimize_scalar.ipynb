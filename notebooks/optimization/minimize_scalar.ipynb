{
 "cells": [
  {
   "cell_type": "markdown",
   "id": "3a3d6587",
   "metadata": {},
   "source": [
    "# MINIMIZE_SCALAR\n",
    "\n",
    "## Overview\n",
    "The `minimize_scalar` function finds the minimum value of a scalar mathematical function. This is useful for business users in Excel who need to optimize costs, maximize efficiency, or find the best value for a given scenario. The function leverages `scipy.optimize.minimize_scalar` and allows users to specify the function as a string, with optional bounds and method.\n",
    "\n",
    "## Usage\n",
    "To use the `minimize_scalar` function in Excel, enter it as a formula in a cell, specifying your function expression, optional bounds, and method:\n",
    "\n",
    "```excel\n",
    "=MINIMIZE_SCALAR(func_expr, bounds, method)\n",
    "```\n",
    "\n",
    "## Arguments\n",
    "| Argument    | Type         | Required | Description                                                                 | Example |\n",
    "|-------------|--------------|----------|-----------------------------------------------------------------------------|---------|\n",
    "| func_expr   | string       | Yes      | The function to minimize, as a string (e.g., 'x**2 + 3*x + 2')              | 'x**2 + 3*x + 2' |\n",
    "| bounds      | 2D list/None | No       | Optional. 2D list [[min, max]] for bounded minimization                     | [[0, 10]] |\n",
    "| method      | string/None  | No       | Optional. Optimization method: 'brent', 'bounded', or 'golden'              | 'bounded' |\n",
    "\n",
    "## Returns\n",
    "| Return Value | Type         | Description                                                    | Example |\n",
    "|--------------|-------------|----------------------------------------------------------------|---------|\n",
    "| result       | 2D list     | [[x, fun]]: x-value of minimum and minimum value                | [[-1.5, -0.25]] |\n",
    "| error        | string      | Error message if input is invalid or an error occurs            | \"Error during minimization: ...\" |\n",
    "\n",
    "## Examples\n",
    "\n",
    "### Minimize a Quadratic Cost Function\n",
    "**Sample Input:**\n",
    "- func_expr: 'x**2 + 3*x + 2'\n",
    "- bounds: None\n",
    "- method: None\n",
    "\n",
    "**Sample Call:**\n",
    "```excel\n",
    "=MINIMIZE_SCALAR(\"x**2 + 3*x + 2\", None, None)\n",
    "```\n",
    "**Sample Output:**\n",
    "[[ -1.5, -0.25 ]]\n",
    "\n",
    "### Minimize a Function with Bounds\n",
    "**Sample Input:**\n",
    "- func_expr: '(x-5)**2 + 10'\n",
    "- bounds: [[0, 10]]\n",
    "- method: 'bounded'\n",
    "\n",
    "**Sample Call:**\n",
    "```excel\n",
    "=MINIMIZE_SCALAR(\"(x-5)**2 + 10\", [[0, 10]], \"bounded\")\n",
    "```\n",
    "**Sample Output:**\n",
    "[[ 5.0, 10.0 ]]\n",
    "\n",
    "### Invalid Input\n",
    "**Sample Input:**\n",
    "- func_expr: 'x***2 + 3x + 2' (invalid)\n",
    "- bounds: None\n",
    "- method: None\n",
    "\n",
    "**Sample Call:**\n",
    "```excel\n",
    "=MINIMIZE_SCALAR(\"x***2 + 3x + 2\", None, None)\n",
    "```\n",
    "**Sample Output:**\n",
    "\"Error during minimization: ...\"\n",
    "\n",
    "## Limitations\n",
    "- The function expression must be a valid Python expression in terms of x.\n",
    "- If bounds are provided, method should be 'bounded'.\n",
    "- Only scalar (single-variable) functions are supported.\n",
    "- If input types are invalid or an error occurs, a string error message is returned instead of raising an exception."
   ]
  },
  {
   "cell_type": "code",
   "execution_count": 13,
   "id": "4d392ce5",
   "metadata": {},
   "outputs": [],
   "source": [
    "from scipy.optimize import minimize_scalar as scipy_minimize_scalar\n",
    "import math\n",
    "\n",
    "def minimize_scalar(func_expr, bounds=None, method=None):\n",
    "    \"\"\"\n",
    "    Minimizes a scalar function using scipy.optimize.minimize_scalar.\n",
    "    Args:\n",
    "        func_expr (str): A string representing the function to minimize, e.g., 'x**2 + 3*x + 2'.\n",
    "        bounds (list, optional): A 2D list [[min, max]] specifying the bounds for bounded methods.\n",
    "        method (str, optional): Optimization method: 'brent', 'bounded', or 'golden'.\n",
    "    Returns:\n",
    "        list: [[x, fun]] where x is the location of minimum and fun is the minimum value, or a string with an error message\n",
    "    \"\"\"\n",
    "    if not (isinstance(func_expr, str)):\n",
    "        return \"func_expr must be a string.\"\n",
    "    if bounds is not None:\n",
    "        if not (isinstance(bounds, list) and all(isinstance(b, list) and len(b) == 2 for b in bounds)):\n",
    "            return \"bounds must be a 2D list (list of [min, max] lists) or None.\"\n",
    "    if method is not None and not isinstance(method, str):\n",
    "        return \"method must be a string or None.\"\n",
    "    def func(x):\n",
    "        return eval(func_expr, {\"x\": x, \"math\": math})\n",
    "    if 'x' not in func_expr:\n",
    "        return \"Function expression must contain the variable 'x'.\"\n",
    "    kwargs = {}\n",
    "    if bounds is not None:\n",
    "        if isinstance(bounds, list) and len(bounds) == 1 and isinstance(bounds[0], list) and len(bounds[0]) == 2:\n",
    "            min_val, max_val = bounds[0][0], bounds[0][1]\n",
    "            kwargs['bounds'] = [min_val, max_val]\n",
    "        else:\n",
    "            kwargs['bounds'] = bounds\n",
    "    if method is not None:\n",
    "        kwargs['method'] = method\n",
    "    try:\n",
    "        result = scipy_minimize_scalar(func, **kwargs)\n",
    "        return [[float(result.x), float(result.fun)]]\n",
    "    except Exception as e:\n",
    "        return f\"Error during minimization: {str(e)}\""
   ]
  },
  {
   "cell_type": "code",
   "execution_count": 14,
   "id": "7e57e549",
   "metadata": {},
   "outputs": [
    {
     "name": "stdout",
     "output_type": "stream",
     "text": [
      "\u001b[32m.\u001b[0m\u001b[32m.\u001b[0m\u001b[32m.\u001b[0m\u001b[32m.\u001b[0m\u001b[32m.\u001b[0m\u001b[32m.\u001b[0m\u001b[32m.\u001b[0m\u001b[32m                                                                                         [100%]\u001b[0m\n",
      "\u001b[32m\u001b[32m\u001b[1m4 passed\u001b[0m\u001b[32m in 0.04s\u001b[0m\u001b[0m\n",
      "\u001b[32m                                                                                         [100%]\u001b[0m\n",
      "\u001b[32m\u001b[32m\u001b[1m4 passed\u001b[0m\u001b[32m in 0.04s\u001b[0m\u001b[0m\n"
     ]
    },
    {
     "name": "stdout",
     "output_type": "stream",
     "text": [
      "\u001b[32m.\u001b[0m\u001b[32m.\u001b[0m\u001b[32m.\u001b[0m\u001b[32m.\u001b[0m\u001b[32m.\u001b[0m\u001b[32m.\u001b[0m\u001b[32m.\u001b[0m\u001b[32m                                                                                         [100%]\u001b[0m\n",
      "\u001b[32m\u001b[32m\u001b[1m4 passed\u001b[0m\u001b[32m in 0.04s\u001b[0m\u001b[0m\n",
      "\u001b[32m                                                                                         [100%]\u001b[0m\n",
      "\u001b[32m\u001b[32m\u001b[1m4 passed\u001b[0m\u001b[32m in 0.04s\u001b[0m\u001b[0m\n"
     ]
    },
    {
     "data": {
      "text/plain": [
       "<ExitCode.OK: 0>"
      ]
     },
     "execution_count": 14,
     "metadata": {},
     "output_type": "execute_result"
    }
   ],
   "source": [
    "# Unit Tests\n",
    "import ipytest\n",
    "ipytest.autoconfig()\n",
    "\n",
    "def test_demo_quadratic_unbounded():\n",
    "    # All arguments set, including optional\n",
    "    func_expr = \"x**2 + 3*x + 2\"\n",
    "    bounds = None\n",
    "    method = None\n",
    "    result = minimize_scalar(func_expr, bounds, method)\n",
    "    assert isinstance(result, list)\n",
    "    assert len(result) == 1\n",
    "    assert isinstance(result[0], list)\n",
    "    assert len(result[0]) == 2\n",
    "    assert all(isinstance(x, float) for x in result[0])\n",
    "\n",
    "def test_demo_bounded_minimum():\n",
    "    func_expr = \"(x-5)**2 + 10\"\n",
    "    bounds = [[0, 10]]\n",
    "    method = \"bounded\"\n",
    "    result = minimize_scalar(func_expr, bounds, method)\n",
    "    assert isinstance(result, list)\n",
    "    assert len(result) == 1\n",
    "    assert isinstance(result[0], list)\n",
    "    assert len(result[0]) == 2\n",
    "    assert all(isinstance(x, float) for x in result[0])\n",
    "    # Should be close to [5.0, 10.0]\n",
    "    assert abs(result[0][0] - 5.0) < 1e-3\n",
    "    assert abs(result[0][1] - 10.0) < 1e-3\n",
    "\n",
    "def test_demo_invalid_expression():\n",
    "    func_expr = \"x***2 + 3x + 2\"\n",
    "    bounds = None\n",
    "    method = None\n",
    "    result = minimize_scalar(func_expr, bounds, method)\n",
    "    assert isinstance(result, str) and (\"error\" in result.lower() or \"must be\" in result.lower())\n",
    "\n",
    "def test_demo_missing_x():\n",
    "    func_expr = \"5 + 7\"\n",
    "    bounds = None\n",
    "    method = None\n",
    "    result = minimize_scalar(func_expr, bounds, method)\n",
    "    assert isinstance(result, str) and (\"function expression must contain\" in result.lower())\n",
    "\n",
    "ipytest.run()"
   ]
  },
  {
   "cell_type": "code",
   "execution_count": 18,
   "id": "1f38a68e",
   "metadata": {},
   "outputs": [
    {
     "name": "stdout",
     "output_type": "stream",
     "text": [
      "* Running on local URL:  http://127.0.0.1:7883\n",
      "* To create a public link, set `share=True` in `launch()`.\n"
     ]
    },
    {
     "data": {
      "text/html": [
       "<div><iframe src=\"http://127.0.0.1:7883/\" width=\"100%\" height=\"500\" allow=\"autoplay; camera; microphone; clipboard-read; clipboard-write;\" frameborder=\"0\" allowfullscreen></iframe></div>"
      ],
      "text/plain": [
       "<IPython.core.display.HTML object>"
      ]
     },
     "metadata": {},
     "output_type": "display_data"
    },
    {
     "data": {
      "text/plain": []
     },
     "execution_count": 18,
     "metadata": {},
     "output_type": "execute_result"
    }
   ],
   "source": [
    "# Interactive Demo\n",
    "\n",
    "import gradio as gr\n",
    "\n",
    "examples = [\n",
    "    [\n",
    "        \"x**2 + 3*x + 2\",\n",
    "        [[-1000, 1000]],\n",
    "        \"bounded\"\n",
    "    ],\n",
    "    [\n",
    "        \"(x-5)**2 + 10\",\n",
    "        [[0, 10]],\n",
    "        \"bounded\"\n",
    "    ]\n",
    "]\n",
    "\n",
    "demo = gr.Interface(\n",
    "    fn=minimize_scalar,\n",
    "    inputs=[\n",
    "        gr.Textbox(label=\"Function Expression\", value=\"x**2 + 3*x + 2\"),\n",
    "        gr.Dataframe(headers=[\"min\", \"max\"], label=\"Bounds (2D list, optional)\", row_count=1, col_count=2, type=\"array\", value=[[-1000, 1000]]),\n",
    "        gr.Textbox(label=\"Method (optional)\", value=\"bounded\"),\n",
    "    ],\n",
    "    outputs=gr.Dataframe(headers=[\"x\", \"fun\"], label=\"[x, minimum value] or error message\"),\n",
    "    examples=examples,\n",
    "    description=\"Find the minimum of a scalar function. All arguments must be set for each example.\",\n",
    "    flagging_mode=\"never\",\n",
    ")\n",
    "demo.launch()"
   ]
  }
 ],
 "metadata": {
  "kernelspec": {
   "display_name": ".venv",
   "language": "python",
   "name": "python3"
  },
  "language_info": {
   "codemirror_mode": {
    "name": "ipython",
    "version": 3
   },
   "file_extension": ".py",
   "mimetype": "text/x-python",
   "name": "python",
   "nbconvert_exporter": "python",
   "pygments_lexer": "ipython3",
   "version": "3.13.3"
  }
 },
 "nbformat": 4,
 "nbformat_minor": 5
}
